{
 "cells": [
  {
   "cell_type": "code",
   "execution_count": 274,
   "id": "09248e26-5b90-477d-846d-1e9b711fbea5",
   "metadata": {},
   "outputs": [
    {
     "name": "stderr",
     "output_type": "stream",
     "text": [
      "[nltk_data] Downloading package punkt to\n",
      "[nltk_data]     C:\\Users\\P70076367\\AppData\\Roaming\\nltk_data...\n",
      "[nltk_data]   Package punkt is already up-to-date!\n",
      "[nltk_data] Downloading package averaged_perceptron_tagger to\n",
      "[nltk_data]     C:\\Users\\P70076367\\AppData\\Roaming\\nltk_data...\n",
      "[nltk_data]   Unzipping taggers\\averaged_perceptron_tagger.zip.\n"
     ]
    },
    {
     "data": {
      "text/plain": [
       "True"
      ]
     },
     "execution_count": 274,
     "metadata": {},
     "output_type": "execute_result"
    }
   ],
   "source": [
    "import os\n",
    "from pathlib import Path\n",
    "import extract_msg\n",
    "import seaborn as sns \n",
    "import pandas as pd\n",
    "import matplotlib.pyplot as plt\n",
    "from datetime import datetime\n",
    "from textblob import TextBlob\n",
    "from urlextract import URLExtract\n",
    "import nltk\n",
    "nltk.download('punkt')\n",
    "nltk.download('averaged_perceptron_tagger')"
   ]
  },
  {
   "cell_type": "code",
   "execution_count": 96,
   "id": "96331113-9e2c-4c1e-9bd3-b66699fc43d3",
   "metadata": {},
   "outputs": [],
   "source": [
    "mainpath = Path(\".\")"
   ]
  },
  {
   "cell_type": "code",
   "execution_count": 97,
   "id": "08b633a2-c4c8-469f-ba05-20d58b96b613",
   "metadata": {},
   "outputs": [],
   "source": [
    "# path_repo = []\n",
    "def path_collector(path, suffix, path_repo):\n",
    "    for p in os.listdir(Path(path)):\n",
    "        if (Path(path) / p).is_dir():\n",
    "            path_collector(Path(path) / p, suffix, path_repo)\n",
    "        elif (Path(path) / p).is_file(): \n",
    "            if ((Path(path) / p).suffix).lower() == suffix:\n",
    "                path_repo.append(Path(path) / p)     "
   ]
  },
  {
   "cell_type": "code",
   "execution_count": null,
   "id": "e028130b-b265-46c1-9da4-f015bd4b8eb1",
   "metadata": {},
   "outputs": [],
   "source": [
    "person_A=\"\"\n",
    "person_B=\"\""
   ]
  },
  {
   "cell_type": "code",
   "execution_count": 98,
   "id": "c28a2705-6699-4d09-8e47-095d9bceccee",
   "metadata": {},
   "outputs": [],
   "source": [
    "all_msgs_paths = []\n",
    "path_collector(mainpath, \".msg\", all_msgs_paths)\n",
    "msg_paths_person_A = []\n",
    "path_collector(mainpath/\"From \"+person_A, \".msg\", msg_paths_person_A)\n",
    "msg_paths_person_B = []\n",
    "path_collector(mainpath/\"From \"+person_B, \".msg\", msg_paths_person_B)"
   ]
  },
  {
   "cell_type": "code",
   "execution_count": 99,
   "id": "5b0a8fc1-d700-43d5-8041-e95a37eaeef6",
   "metadata": {},
   "outputs": [
    {
     "data": {
      "image/png": "[encoded data removed]",
      "text/plain": [
       "<Figure size 576x432 with 1 Axes>"
      ]
     },
     "metadata": {
      "needs_background": "light"
     },
     "output_type": "display_data"
    }
   ],
   "source": [
    "fig, ax = plt.subplots(figsize=(8,6))\n",
    "_ = sns.barplot(data=pd.DataFrame({\"person_A\": [len(msg_paths_person_A)], \"person_B\": [len(msg_paths_person_B)]}))\n",
    "_ = ax.set_xlabel(\"Sender\")\n",
    "_ = ax.set_ylabel(\"Emails count\")\n",
    "plt.savefig(\"emails_exchangeS.png\")"
   ]
  },
  {
   "cell_type": "code",
   "execution_count": 107,
   "id": "25fc0bac-78a6-4a5e-87ec-45a0ba9e1129",
   "metadata": {},
   "outputs": [],
   "source": [
    "person_A_msgs = [extract_msg.Message(f) for f in msg_paths_person_A]\n",
    "person_B_msgs = [extract_msg.Message(f) for f in msg_paths_person_B]\n",
    "all_msgs = person_A_msgs + person_B_msgs"
   ]
  },
  {
   "cell_type": "code",
   "execution_count": 115,
   "id": "0e59231e-b5ed-4aab-8772-e25162ed0471",
   "metadata": {},
   "outputs": [],
   "source": [
    "all_msgs_dates = [datetime.strptime(msg.date, \"%a, %d %b %Y %X %z\") for msg in all_msgs]"
   ]
  },
  {
   "cell_type": "code",
   "execution_count": 128,
   "id": "3aeece7f-f317-4d05-b0ee-23d73c9f88ef",
   "metadata": {},
   "outputs": [],
   "source": [
    "day_conversion = {0: \"Monday\", 1: \"Tuesday\", 2: \"Wednesday\", 3: \"Thursday\", 4: \"Friday\", 5: \"Saturday\", 6: \"Sunday\",}"
   ]
  },
  {
   "cell_type": "code",
   "execution_count": 130,
   "id": "d95d146f-54ff-498a-a4cc-00a546702b01",
   "metadata": {},
   "outputs": [],
   "source": [
    "all_msgs_weekday = [day_conversion[d.weekday()] for d in all_msgs_dates]"
   ]
  },
  {
   "cell_type": "code",
   "execution_count": 136,
   "id": "d257666c-65b9-47a8-8f76-18e8a58d0300",
   "metadata": {},
   "outputs": [],
   "source": [
    "days = {}\n",
    "for day in all_msgs_weekday:\n",
    "    days[day] = days.get(day, 0) + 1"
   ]
  },
  {
   "cell_type": "code",
   "execution_count": 146,
   "id": "fe212ee8-ba6d-4e88-b719-37c7ffad6086",
   "metadata": {},
   "outputs": [
    {
     "data": {
      "image/png": "[encoded data removed]",
      "text/plain": [
       "<Figure size 576x432 with 1 Axes>"
      ]
     },
     "metadata": {
      "needs_background": "light"
     },
     "output_type": "display_data"
    }
   ],
   "source": [
    "fig, ax = plt.subplots(figsize=(8,6))\n",
    "_ = sns.barplot(data=pd.DataFrame({q:[days[q]] for p,q in day_conversion.items()}))\n",
    "_ = ax.set_xlabel(\"Weekdays\")\n",
    "_ = ax.set_ylabel(\"Emails count\")\n",
    "plt.savefig(\"emails_exchange_weekly.png\")"
   ]
  },
  {
   "cell_type": "code",
   "execution_count": 147,
   "id": "75f0afd2-7bb5-4ac1-a8e9-e6271f90314c",
   "metadata": {},
   "outputs": [],
   "source": [
    "all_msgs_hours = [d.hour for d in all_msgs_dates]"
   ]
  },
  {
   "cell_type": "code",
   "execution_count": 149,
   "id": "d0f3738c-bd0f-4bb7-8184-cc0198f277af",
   "metadata": {},
   "outputs": [],
   "source": [
    "hours = {}\n",
    "for hour in all_msgs_hours:\n",
    "    hours[hour] = hours.get(hour, 0) + 1"
   ]
  },
  {
   "cell_type": "code",
   "execution_count": 157,
   "id": "ebd02e8f-7901-4a98-8195-ee7d187d3c38",
   "metadata": {},
   "outputs": [],
   "source": [
    "sorted_hours = {}\n",
    "for i in range(0,24):\n",
    "    sorted_hours[i] = hours[i] if i in hours else 0"
   ]
  },
  {
   "cell_type": "code",
   "execution_count": 160,
   "id": "17c20e5c-fa43-43bd-8da7-14b74ea408b6",
   "metadata": {},
   "outputs": [
    {
     "data": {
      "image/png": "[encoded data removed]",
      "text/plain": [
       "<Figure size 576x432 with 1 Axes>"
      ]
     },
     "metadata": {
      "needs_background": "light"
     },
     "output_type": "display_data"
    }
   ],
   "source": [
    "fig, ax = plt.subplots(figsize=(8,6))\n",
    "_ = sns.barplot(data=pd.DataFrame({hour:[freq] for hour,freq in sorted_hours.items()}))\n",
    "_ = ax.set_xlabel(\"Hours\")\n",
    "_ = ax.set_ylabel(\"Emails count\")\n",
    "plt.savefig(\"emails_exchange_hours.png\")"
   ]
  },
  {
   "cell_type": "code",
   "execution_count": 264,
   "id": "6d72423b-b8f7-4cbf-8ab6-9546c1ef0317",
   "metadata": {},
   "outputs": [],
   "source": [
    "def text_cleaning(input_text):\n",
    "    # print(input_text)\n",
    "    removal_list =[\"\\n\", \"\\r\", \"\\\"\", \"\\'\", \"*\",]\n",
    "    extractor = URLExtract()\n",
    "    extractor.extract_email = True\n",
    "    removal_list = removal_list + extractor.find_urls(input_text)\n",
    "    \n",
    "    for i in removal_list:\n",
    "        input_text = input_text.replace(i, \"\")\n",
    "        \n",
    "    # print(removal_list)\n",
    "    return input_text.strip()"
   ]
  },
  {
   "cell_type": "code",
   "execution_count": 265,
   "id": "529e650f-0379-47e1-b886-3aaa2e5ea675",
   "metadata": {},
   "outputs": [],
   "source": [
    "msg_subjects = [msg.subject for msg in all_msgs]"
   ]
  },
  {
   "cell_type": "code",
   "execution_count": 266,
   "id": "5095a8cf-34b8-49f6-9cc7-4c21b4dbdc5c",
   "metadata": {},
   "outputs": [],
   "source": [
    "msg_contents = [text_cleaning(msg.body) for msg in person_A_msgs]"
   ]
  },
  {
   "cell_type": "code",
   "execution_count": 267,
   "id": "a34ca4e3-24f0-4665-b522-662ffcc1ac87",
   "metadata": {},
   "outputs": [],
   "source": [
    "msg_subjectivity = [TextBlob(msg).subjectivity for msg in msg_contents]"
   ]
  },
  {
   "cell_type": "code",
   "execution_count": 268,
   "id": "73b72ba7-703e-4b01-ab86-28c5c33093b0",
   "metadata": {},
   "outputs": [],
   "source": [
    "msg_polarity = [TextBlob(msg).polarity for msg in msg_contents]"
   ]
  },
  {
   "cell_type": "code",
   "execution_count": 269,
   "id": "28c7b14a-4ba0-433f-9564-bbe10bf09942",
   "metadata": {},
   "outputs": [
    {
     "data": {
      "image/png": "[encoded data removed]",
      "text/plain": [
       "<Figure size 576x432 with 1 Axes>"
      ]
     },
     "metadata": {
      "needs_background": "light"
     },
     "output_type": "display_data"
    }
   ],
   "source": [
    "fix, ax = plt.subplots(figsize=(8,6))\n",
    "_ = sns.scatterplot(x = msg_subjectivity, y = msg_polarity)\n",
    "_ = ax.set_xlabel(\"Subjectivity\")\n",
    "_ = ax.set_ylabel(\"Polarity\")\n",
    "plt.savefig(\"./sentiment.png\")"
   ]
  },
  {
   "cell_type": "code",
   "execution_count": 270,
   "id": "23f0ce2b-758f-409a-88dc-532cca3169bd",
   "metadata": {},
   "outputs": [],
   "source": [
    "all_messages = \"\"\n",
    "for i in msg_contents:\n",
    "    all_messages += i"
   ]
  },
  {
   "cell_type": "code",
   "execution_count": 271,
   "id": "5dd2e16a-807f-4166-bef5-b107cd172cae",
   "metadata": {},
   "outputs": [],
   "source": [
    "all_msgs_blob = TextBlob(all_messages)"
   ]
  },
  {
   "cell_type": "code",
   "execution_count": 287,
   "id": "f6bd58c1-fafc-4555-b565-e72cb80fe84b",
   "metadata": {},
   "outputs": [],
   "source": [
    "unigrams = all_msgs_blob.ngrams(n=1)\n",
    "unigrams_dict = {}\n",
    "for i in unigrams:\n",
    "    unigrams_dict[i[0]] = unigrams_dict.get(i[0], 0) + 1\n",
    "\n",
    "unigrams_dict = {i:j for i,j in sorted(unigrams_dict.items(), key=lambda x: x[1], reverse=True)}"
   ]
  },
  {
   "cell_type": "code",
   "execution_count": 296,
   "id": "8bd809df-f655-4fb6-84ab-3a7ea24ab55b",
   "metadata": {},
   "outputs": [],
   "source": [
    "bigrams = all_msgs_blob.ngrams(n=2)\n",
    "bigrams_dict = {}\n",
    "for i in bigrams:\n",
    "    key = i[0] + \" \" + i[1]\n",
    "    bigrams_dict[key] = bigrams_dict.get(key, 0) + 1\n",
    "\n",
    "bigrams_dict = {i:j for i,j in sorted(bigrams_dict.items(), key=lambda x: x[1], reverse=True)}"
   ]
  },
  {
   "cell_type": "code",
   "execution_count": 300,
   "id": "8b499e2d-1beb-450d-8763-093f42b5e2e7",
   "metadata": {},
   "outputs": [],
   "source": [
    "trigrams = all_msgs_blob.ngrams(n=3)\n",
    "trigrams_dict = {}\n",
    "for i in trigrams:\n",
    "    key = i[0] + \" \" + i[1] + \" \" + i[2]\n",
    "    trigrams_dict[key] = trigrams_dict.get(key, 0) + 1\n",
    "\n",
    "trigrams_dict = {i:j for i,j in sorted(trigrams_dict.items(), key=lambda x: x[1], reverse=True)}"
   ]
  },
  {
   "cell_type": "code",
   "execution_count": null,
   "id": "64599811-0ae1-4f65-951b-2348089b9515",
   "metadata": {},
   "outputs": [],
   "source": []
  }
 ],
 "metadata": {
  "kernelspec": {
   "display_name": "Python 3 (ipykernel)",
   "language": "python",
   "name": "python3"
  },
  "language_info": {
   "codemirror_mode": {
    "name": "ipython",
    "version": 3
   },
   "file_extension": ".py",
   "mimetype": "text/x-python",
   "name": "python",
   "nbconvert_exporter": "python",
   "pygments_lexer": "ipython3",
   "version": "3.9.11"
  }
 },
 "nbformat": 4,
 "nbformat_minor": 5
}
